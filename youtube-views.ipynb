{
 "cells": [
  {
   "cell_type": "code",
   "execution_count": 5,
   "id": "informal-multimedia",
   "metadata": {},
   "outputs": [],
   "source": [
    "from youtubeKey import key\n",
    "from googleapiclient.discovery import build"
   ]
  },
  {
   "cell_type": "code",
   "execution_count": 6,
   "id": "lasting-firmware",
   "metadata": {},
   "outputs": [],
   "source": [
    "youtube = build('youtube', 'v3', developerKey=key)\n",
    "\n",
    "request = youtube.channels().list(part = 'statistics',\n",
    "                                 forUsername = 'linustechtips')\n",
    "response = request.execute()"
   ]
  },
  {
   "cell_type": "code",
   "execution_count": 7,
   "id": "packed-daniel",
   "metadata": {},
   "outputs": [
    {
     "name": "stdout",
     "output_type": "stream",
     "text": [
      "{'kind': 'youtube#channelListResponse', 'etag': 'vtwXtZ9tayeE9DOqMq33WLJwroU', 'pageInfo': {'totalResults': 1, 'resultsPerPage': 5}, 'items': [{'kind': 'youtube#channel', 'etag': '4TGKKmaLVEki36DP3bYJf39rFCE', 'id': 'UCXuqSBlHAE6Xw-yeJA0Tunw', 'statistics': {'viewCount': '4611235574', 'subscriberCount': '13100000', 'hiddenSubscriberCount': False, 'videoCount': '5293'}}]}\n"
     ]
    }
   ],
   "source": [
    "print(response)"
   ]
  }
 ],
 "metadata": {
  "kernelspec": {
   "display_name": "Python 3",
   "language": "python",
   "name": "python3"
  },
  "language_info": {
   "codemirror_mode": {
    "name": "ipython",
    "version": 3
   },
   "file_extension": ".py",
   "mimetype": "text/x-python",
   "name": "python",
   "nbconvert_exporter": "python",
   "pygments_lexer": "ipython3",
   "version": "3.9.2"
  }
 },
 "nbformat": 4,
 "nbformat_minor": 5
}
